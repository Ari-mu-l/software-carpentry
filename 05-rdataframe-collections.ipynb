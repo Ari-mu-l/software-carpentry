{
 "cells": [
  {
   "cell_type": "markdown",
   "id": "6c20dcc6",
   "metadata": {
    "slideshow": {
     "slide_type": "slide"
    }
   },
   "source": [
    "# Working with collections and object selections\n",
    "\n",
    "- RDataFrame reads collections as the special type [ROOT::RVec](https://root.cern/doc/master/classROOT_1_1VecOps_1_1RVec.html) - e.g. a branch containing an array of floating point numbers can be read as a `ROOT::RVec<float>`.\n",
    "\n",
    "- C-style arrays (with variable or static size), `std::vectors` and many other collection types can be read this way. \n",
    "\n",
    "- When reading ROOT data, column values of type `ROOT::RVec<T>` perform no copy of the underlying array.\n",
    "\n",
    "- `RVec` is a container similar to `std::vector` (and can be used just like a `std::vector`) but it also offers a rich interface to operate on the array elements in a vectorised fashion, similarly to Python's NumPy arrays."
   ]
  },
  {
   "cell_type": "code",
   "execution_count": 1,
   "id": "25b99067",
   "metadata": {
    "slideshow": {
     "slide_type": "fragment"
    }
   },
   "outputs": [
    {
     "name": "stdout",
     "output_type": "stream",
     "text": [
      "Welcome to JupyROOT 6.26/11\n",
      "Columns in the dataset: { \"E\", \"nPart\", \"px\", \"py\" }\n"
     ]
    }
   ],
   "source": [
    "import ROOT\n",
    "\n",
    "treename = \"myDataset\"\n",
    "filename = \"data/collections_dataset.root\"\n",
    "df = ROOT.RDataFrame(treename, filename)\n",
    "\n",
    "print(f\"Columns in the dataset: {df.GetColumnNames()}\")"
   ]
  },
  {
   "cell_type": "code",
   "execution_count": 2,
   "id": "c6033d49",
   "metadata": {},
   "outputs": [],
   "source": [
    "# import numpy\n",
    "# numpy.version.version"
   ]
  },
  {
   "cell_type": "markdown",
   "id": "0f3633ae",
   "metadata": {
    "slideshow": {
     "slide_type": "subslide"
    }
   },
   "source": [
    "To quickly inspect the data we can export it as a dictionary of `numpy` arrays thanks to the `AsNumpy` RDataFrame method. \n",
    "\n",
    "Note that for each row, `E` is an array of values:"
   ]
  },
  {
   "cell_type": "code",
   "execution_count": 3,
   "id": "b4664f42",
   "metadata": {
    "collapsed": true,
    "slideshow": {
     "slide_type": "fragment"
    }
   },
   "outputs": [
    {
     "name": "stderr",
     "output_type": "stream",
     "text": [
      "/cvmfs/cms.cern.ch/el8_amd64_gcc12/lcg/root/6.26.11-9631c813ba7e5cd5be390fa1ded44151/lib/ROOT/_pythonization/_rdataframe.py:138: FutureWarning: In the future `np.object` will be defined as the corresponding NumPy scalar.\n",
      "  tmp = numpy.empty(len(cpp_reference), dtype=numpy.object)\n"
     ]
    },
    {
     "ename": "AttributeError",
     "evalue": "module 'numpy' has no attribute 'object'.\n`np.object` was a deprecated alias for the builtin `object`. To avoid this error in existing code, use `object` by itself. Doing this will not modify any behavior and is safe. \nThe aliases was originally deprecated in NumPy 1.20; for more details and guidance see the original release note at:\n    https://numpy.org/devdocs/release/1.20.0-notes.html#deprecations",
     "output_type": "error",
     "traceback": [
      "\u001b[0;31m---------------------------------------------------------------------------\u001b[0m",
      "\u001b[0;31mAttributeError\u001b[0m                            Traceback (most recent call last)",
      "Cell \u001b[0;32mIn[3], line 3\u001b[0m\n\u001b[1;32m      1\u001b[0m \u001b[38;5;66;03m# Instructor: use SWAN\u001b[39;00m\n\u001b[0;32m----> 3\u001b[0m npy_dict \u001b[38;5;241m=\u001b[39m \u001b[43mdf\u001b[49m\u001b[38;5;241;43m.\u001b[39;49m\u001b[43mAsNumpy\u001b[49m\u001b[43m(\u001b[49m\u001b[43m[\u001b[49m\u001b[38;5;124;43m\"\u001b[39;49m\u001b[38;5;124;43mE\u001b[39;49m\u001b[38;5;124;43m\"\u001b[39;49m\u001b[43m]\u001b[49m\u001b[43m)\u001b[49m\n\u001b[1;32m      5\u001b[0m \u001b[38;5;28;01mfor\u001b[39;00m row, vec \u001b[38;5;129;01min\u001b[39;00m \u001b[38;5;28menumerate\u001b[39m(npy_dict[\u001b[38;5;124m\"\u001b[39m\u001b[38;5;124mE\u001b[39m\u001b[38;5;124m\"\u001b[39m]):\n\u001b[1;32m      6\u001b[0m     \u001b[38;5;28mprint\u001b[39m(\u001b[38;5;124mf\u001b[39m\u001b[38;5;124m\"\u001b[39m\u001b[38;5;130;01m\\n\u001b[39;00m\u001b[38;5;124mRow \u001b[39m\u001b[38;5;132;01m{\u001b[39;00mrow\u001b[38;5;132;01m}\u001b[39;00m\u001b[38;5;124m contains:\u001b[39m\u001b[38;5;130;01m\\n\u001b[39;00m\u001b[38;5;132;01m{\u001b[39;00mvec\u001b[38;5;132;01m}\u001b[39;00m\u001b[38;5;124m\"\u001b[39m)\n",
      "File \u001b[0;32m/cvmfs/cms.cern.ch/el8_amd64_gcc12/lcg/root/6.26.11-9631c813ba7e5cd5be390fa1ded44151/lib/ROOT/_pythonization/_rdataframe.py:87\u001b[0m, in \u001b[0;36mRDataFrameAsNumpy\u001b[0;34m(df, columns, exclude, lazy)\u001b[0m\n\u001b[1;32m     85\u001b[0m     \u001b[38;5;28;01mreturn\u001b[39;00m result\n\u001b[1;32m     86\u001b[0m \u001b[38;5;28;01melse\u001b[39;00m:\n\u001b[0;32m---> 87\u001b[0m     \u001b[38;5;28;01mreturn\u001b[39;00m \u001b[43mresult\u001b[49m\u001b[38;5;241;43m.\u001b[39;49m\u001b[43mGetValue\u001b[49m\u001b[43m(\u001b[49m\u001b[43m)\u001b[49m\n",
      "File \u001b[0;32m/cvmfs/cms.cern.ch/el8_amd64_gcc12/lcg/root/6.26.11-9631c813ba7e5cd5be390fa1ded44151/lib/ROOT/_pythonization/_rdataframe.py:138\u001b[0m, in \u001b[0;36mAsNumpyResult.GetValue\u001b[0;34m(self)\u001b[0m\n\u001b[1;32m    136\u001b[0m     \u001b[38;5;28mself\u001b[39m\u001b[38;5;241m.\u001b[39m_py_arrays[column] \u001b[38;5;241m=\u001b[39m ndarray(tmp, \u001b[38;5;28mself\u001b[39m\u001b[38;5;241m.\u001b[39m_result_ptrs[column])\n\u001b[1;32m    137\u001b[0m \u001b[38;5;28;01melse\u001b[39;00m:\n\u001b[0;32m--> 138\u001b[0m     tmp \u001b[38;5;241m=\u001b[39m numpy\u001b[38;5;241m.\u001b[39mempty(\u001b[38;5;28mlen\u001b[39m(cpp_reference), dtype\u001b[38;5;241m=\u001b[39m\u001b[43mnumpy\u001b[49m\u001b[38;5;241;43m.\u001b[39;49m\u001b[43mobject\u001b[49m)\n\u001b[1;32m    139\u001b[0m     \u001b[38;5;28;01mfor\u001b[39;00m i, x \u001b[38;5;129;01min\u001b[39;00m \u001b[38;5;28menumerate\u001b[39m(cpp_reference):\n\u001b[1;32m    140\u001b[0m         tmp[i] \u001b[38;5;241m=\u001b[39m x \u001b[38;5;66;03m# This creates only the wrapping of the objects and does not copy.\u001b[39;00m\n",
      "File \u001b[0;32m/cvmfs/cms.cern.ch/el8_amd64_gcc12/external/py3-numpy/1.24.3-6c4922f4e317e74c4b82416c41722d10/lib/python3.9/site-packages/numpy/__init__.py:305\u001b[0m, in \u001b[0;36m__getattr__\u001b[0;34m(attr)\u001b[0m\n\u001b[1;32m    300\u001b[0m     warnings\u001b[38;5;241m.\u001b[39mwarn(\n\u001b[1;32m    301\u001b[0m         \u001b[38;5;124mf\u001b[39m\u001b[38;5;124m\"\u001b[39m\u001b[38;5;124mIn the future `np.\u001b[39m\u001b[38;5;132;01m{\u001b[39;00mattr\u001b[38;5;132;01m}\u001b[39;00m\u001b[38;5;124m` will be defined as the \u001b[39m\u001b[38;5;124m\"\u001b[39m\n\u001b[1;32m    302\u001b[0m         \u001b[38;5;124m\"\u001b[39m\u001b[38;5;124mcorresponding NumPy scalar.\u001b[39m\u001b[38;5;124m\"\u001b[39m, \u001b[38;5;167;01mFutureWarning\u001b[39;00m, stacklevel\u001b[38;5;241m=\u001b[39m\u001b[38;5;241m2\u001b[39m)\n\u001b[1;32m    304\u001b[0m \u001b[38;5;28;01mif\u001b[39;00m attr \u001b[38;5;129;01min\u001b[39;00m __former_attrs__:\n\u001b[0;32m--> 305\u001b[0m     \u001b[38;5;28;01mraise\u001b[39;00m \u001b[38;5;167;01mAttributeError\u001b[39;00m(__former_attrs__[attr])\n\u001b[1;32m    307\u001b[0m \u001b[38;5;66;03m# Importing Tester requires importing all of UnitTest which is not a\u001b[39;00m\n\u001b[1;32m    308\u001b[0m \u001b[38;5;66;03m# cheap import Since it is mainly used in test suits, we lazy import it\u001b[39;00m\n\u001b[1;32m    309\u001b[0m \u001b[38;5;66;03m# here to save on the order of 10 ms of import time for most users\u001b[39;00m\n\u001b[1;32m    310\u001b[0m \u001b[38;5;66;03m#\u001b[39;00m\n\u001b[1;32m    311\u001b[0m \u001b[38;5;66;03m# The previous way Tester was imported also had a side effect of adding\u001b[39;00m\n\u001b[1;32m    312\u001b[0m \u001b[38;5;66;03m# the full `numpy.testing` namespace\u001b[39;00m\n\u001b[1;32m    313\u001b[0m \u001b[38;5;28;01mif\u001b[39;00m attr \u001b[38;5;241m==\u001b[39m \u001b[38;5;124m'\u001b[39m\u001b[38;5;124mtesting\u001b[39m\u001b[38;5;124m'\u001b[39m:\n",
      "\u001b[0;31mAttributeError\u001b[0m: module 'numpy' has no attribute 'object'.\n`np.object` was a deprecated alias for the builtin `object`. To avoid this error in existing code, use `object` by itself. Doing this will not modify any behavior and is safe. \nThe aliases was originally deprecated in NumPy 1.20; for more details and guidance see the original release note at:\n    https://numpy.org/devdocs/release/1.20.0-notes.html#deprecations"
     ]
    }
   ],
   "source": [
    "# Instructor: use SWAN\n",
    "\n",
    "npy_dict = df.AsNumpy([\"E\"])\n",
    "\n",
    "for row, vec in enumerate(npy_dict[\"E\"]):\n",
    "    print(f\"\\nRow {row} contains:\\n{vec}\")"
   ]
  },
  {
   "cell_type": "markdown",
   "id": "b896f202",
   "metadata": {
    "slideshow": {
     "slide_type": "subslide"
    }
   },
   "source": [
    "### Define a new column with operations on RVecs"
   ]
  },
  {
   "cell_type": "code",
   "execution_count": 34,
   "id": "4f140a78",
   "metadata": {
    "slideshow": {
     "slide_type": "fragment"
    }
   },
   "outputs": [],
   "source": [
    "df1 = df.Define(\"good_pt\", \"sqrt(px*px + py*py)[E>100]\")"
   ]
  },
  {
   "cell_type": "markdown",
   "id": "4ca3b396",
   "metadata": {
    "slideshow": {
     "slide_type": "fragment"
    }
   },
   "source": [
    "`sqrt(px*px + py*py)[E>100]`:\n",
    "- `px`, `py` and `E` are the columns, the elements of those columns are `RVec`s\n",
    "\n",
    "- Operations on `RVec`s, such as sum, product, sqrt, preserve the dimensionality of the array\n",
    "\n",
    "- `[E>100]` selects the elements of the array that satisfy the condition\n",
    "\n",
    "- `E > 100`: boolean expressions on `RVec`s such as `E > 100` return a mask, that is an array with information which values pass the selection (e.g. `[0, 1, 0, 0]` if only the second element satisfies the condition)"
   ]
  },
  {
   "cell_type": "code",
   "execution_count": 50,
   "id": "2c7e418d",
   "metadata": {},
   "outputs": [],
   "source": [
    "# Try it!\n",
    "# To-do: Edit the code below to compute good_pt for E>80\n",
    "df_try = df.Define(\"good_pt\", \"sqrt(px*px + py*py)[E>1000]\")"
   ]
  },
  {
   "cell_type": "code",
   "execution_count": 39,
   "id": "97076a32",
   "metadata": {},
   "outputs": [
    {
     "name": "stdout",
     "output_type": "stream",
     "text": [
      "3\n",
      "3\n"
     ]
    }
   ],
   "source": [
    "# Try it!\n",
    "# To-do: Compare the number of events in these two RDataFrames with Count() and GetValue()\n",
    "print(df1.Count().GetValue())\n",
    "print(df_try.Count().GetValue())"
   ]
  },
  {
   "cell_type": "code",
   "execution_count": 41,
   "id": "b303470c",
   "metadata": {
    "collapsed": true
   },
   "outputs": [
    {
     "name": "stdout",
     "output_type": "stream",
     "text": [
      "+-----+------------+--------------+-------+---------------+----------------+\n",
      "| Row | E          | good_pt      | nPart | px            | py             | \n",
      "+-----+------------+--------------+-------+---------------+----------------+\n",
      "| 0   | 130000.01  | 0.0000000    | 40    | 0.0000000     | 0.0000000      | \n",
      "|     | 0.93827999 | 0.32323022   |       | 0.0000000     | 0.0000000      | \n",
      "|     | 0.93957090 | 1.2690683    |       | 0.0000000     | 0.0000000      | \n",
      "|     | 0.93957090 | 0.98391209   |       | 0.0000000     | 0.0000000      | \n",
      "|     | 0.93827999 | 0.25159067   |       | 0.0000000     | 0.0000000      | \n",
      "|     | 0.93957090 | 0.35965768   |       | 0.0000000     | 0.0000000      | \n",
      "|     | 0.93827999 | 0.53728041   |       | 0.0000000     | 0.0000000      | \n",
      "|     | 0.93957090 | 0.77752999   |       | 0.0000000     | 0.0000000      | \n",
      "|     | 0.93957090 | 0.51516854   |       | 0.0000000     | 0.0000000      | \n",
      "|     | 0.93827999 | 0.44018476   |       | 0.0000000     | 0.0000000      | \n",
      "|     | ...        | ...          |       | ...           | ...            | \n",
      "+-----+------------+--------------+-------+---------------+----------------+\n",
      "| 1   | 130000.01  | 0.0000000    | 53    | 0.0000000     | 0.0000000      | \n",
      "|     | 0.93957090 | 0.31820091   |       | 0.0000000     | 0.0000000      | \n",
      "|     | 0.93827999 | 0.15788171   |       | 0.0000000     | 0.0000000      | \n",
      "|     | 0.93957090 | 0.53153005   |       | 0.0000000     | 0.0000000      | \n",
      "|     | 0.93957090 | 0.027704503  |       | 0.0000000     | 0.0000000      | \n",
      "|     | 0.93827999 | 0.29474307   |       | 0.0000000     | 0.0000000      | \n",
      "|     | 0.93827999 | 0.053700217  |       | 0.0000000     | 0.0000000      | \n",
      "|     | 0.93957090 | 0.0088470740 |       | 0.0000000     | 0.0000000      | \n",
      "|     | 0.93827999 | 0.17977420   |       | 0.0000000     | 0.0000000      | \n",
      "|     | 0.93827999 | 0.43399893   |       | 0.0000000     | 0.0000000      | \n",
      "|     | ...        | ...          |       | ...           | ...            | \n",
      "+-----+------------+--------------+-------+---------------+----------------+\n",
      "| 2   | 130000.01  | 0.0000000    | 185   | 0.0000000     | 0.0000000      | \n",
      "|     | 0.93957090 | 0.31942443   |       | 0.0000000     | 0.0000000      | \n",
      "|     | 0.93957090 | 0.34564768   |       | 0.0000000     | 0.0000000      | \n",
      "|     | 0.93957090 | 0.32360641   |       | 0.0000000     | 0.0000000      | \n",
      "|     | 0.93957090 | 0.29753931   |       | 0.0000000     | 0.0000000      | \n",
      "|     | 0.93957090 | 0.58365710   |       | 0.0000000     | 0.0000000      | \n",
      "|     | 0.93827999 | 0.092090722  |       | 0.0000000     | 0.0000000      | \n",
      "|     | 0.93957090 | 0.15489639   |       | 0.0000000     | 0.0000000      | \n",
      "|     | 0.93827999 | 0.29655698   |       | 0.0000000     | 0.0000000      | \n",
      "|     | 0.93827999 | 0.29940525   |       | 0.0000000     | 0.0000000      | \n",
      "|     | ...        | ...          |       | ...           | ...            | \n",
      "+-----+------------+--------------+-------+---------------+----------------+\n"
     ]
    }
   ],
   "source": [
    "df1.Display().Print()"
   ]
  },
  {
   "cell_type": "markdown",
   "id": "e283340e",
   "metadata": {
    "slideshow": {
     "slide_type": "subslide"
    }
   },
   "source": [
    "### Now we can plot the newly defined column values in a histogram"
   ]
  },
  {
   "cell_type": "code",
   "execution_count": 48,
   "id": "9795d4a7",
   "metadata": {
    "slideshow": {
     "slide_type": "fragment"
    }
   },
   "outputs": [
    {
     "data": {
      "image/png": "[encoded data removed]",
      "text/plain": [
       "<IPython.core.display.Image object>"
      ]
     },
     "metadata": {},
     "output_type": "display_data"
    }
   ],
   "source": [
    "c = ROOT.TCanvas()\n",
    "h = df1.Histo1D((\"pt\", \"pt\", 16, 0, 4), \"good_pt\")\n",
    "h.Draw()\n",
    "c.Draw()"
   ]
  },
  {
   "cell_type": "code",
   "execution_count": 51,
   "id": "3e949c85",
   "metadata": {},
   "outputs": [
    {
     "data": {
      "image/png": "[encoded data removed]",
      "text/plain": [
       "<IPython.core.display.Image object>"
      ]
     },
     "metadata": {},
     "output_type": "display_data"
    }
   ],
   "source": [
    "# Try it!\n",
    "# To-do: Plot the \"good_pt\" column for df_try. Compare the number of entries.\n",
    "c_try = ROOT.TCanvas()\n",
    "h_try = df_try.Histo1D((\"good_pt\",\"good_pt\", 16, 0, 4), \"good_pt\")\n",
    "\n",
    "h_try.Draw()\n",
    "c_try.Draw()"
   ]
  },
  {
   "cell_type": "code",
   "execution_count": null,
   "id": "583748f1",
   "metadata": {},
   "outputs": [],
   "source": []
  }
 ],
 "metadata": {
  "celltoolbar": "Slideshow",
  "kernelspec": {
   "display_name": "Python 3 (ipykernel)",
   "language": "python",
   "name": "python3"
  },
  "language_info": {
   "codemirror_mode": {
    "name": "ipython",
    "version": 3
   },
   "file_extension": ".py",
   "mimetype": "text/x-python",
   "name": "python",
   "nbconvert_exporter": "python",
   "pygments_lexer": "ipython3",
   "version": "3.9.14"
  }
 },
 "nbformat": 4,
 "nbformat_minor": 5
}
